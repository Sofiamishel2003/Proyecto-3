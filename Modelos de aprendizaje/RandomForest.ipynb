{
 "cells": [
  {
   "cell_type": "code",
   "execution_count": null,
   "id": "48b640b2",
   "metadata": {},
   "outputs": [],
   "source": [
    "import time\n",
    "import pandas as pd\n",
    "import numpy as np\n",
    "import matplotlib.pyplot as plt\n",
    "from matplotlib import colormaps\n",
    "from matplotlib.colors import Normalize\n",
    "from sklearn.model_selection import train_test_split\n",
    "from sklearn.metrics import confusion_matrix, ConfusionMatrixDisplay, classification_report, accuracy_score\n",
    "from sklearn.preprocessing import OneHotEncoder, StandardScaler\n",
    "from sklearn.impute import SimpleImputer\n",
    "from sklearn.compose import ColumnTransformer\n",
    "from sklearn.pipeline import make_pipeline\n",
    "\n",
    "from sklearn.ensemble import RandomForestClassifier"
   ]
  },
  {
   "cell_type": "code",
   "execution_count": null,
   "id": "88a5c9f1",
   "metadata": {},
   "outputs": [
    {
     "name": "stderr",
     "output_type": "stream",
     "text": [
      "C:\\Users\\Fabi\\AppData\\Local\\Temp\\ipykernel_19232\\2625095820.py:2: DtypeWarning: Columns (16,17,19) have mixed types. Specify dtype option on import or set low_memory=False.\n",
      "  df = pd.read_csv('./dataset_modelo.csv')\n"
     ]
    }
   ],
   "source": [
    "# Cargar los datos\n",
    "df = pd.read_csv('./dataset_modelo.csv')\n",
    "\n",
    "df['Edad del Hombre'] = df['Edad del Hombre'].replace(999, np.nan)\n",
    "df['Edad de la Mujer'] = df['Nacionalidad de la Mujer'].replace(999, np.nan)\n",
    "df['Escolaridad del Hombre'] = df['Escolaridad del Hombre'].replace(9, np.nan)\n",
    "df['Escolaridad de la Mujer'] = df['Escolaridad de la Mujer'].replace(9, np.nan)\n",
    "\n",
    "# 3. Seleccionar las características para el modelo\n",
    "selected_features = [\n",
    "    \"Ano Ocurrencia\", \n",
    "    \"Departamento de Ocurrencia\", \n",
    "    \"Edad del Hombre\", \n",
    "    \"Edad de la Mujer\",\n",
    "    \"Escolaridad del Hombre\",\n",
    "    \"Escolaridad de la Mujer\"\n",
    "]\n",
    "\n",
    "# Preparar los datos\n",
    "X = df[selected_features].copy()\n",
    "y = df['divorcio']\n",
    "\n",
    "# Manejar valores faltantes en características numéricas\n",
    "numeric_features = X.select_dtypes(include=['int64', 'float64']).columns\n",
    "imputer = SimpleImputer(strategy='median')\n",
    "X[numeric_features] = imputer.fit_transform(X[numeric_features])\n",
    "\n",
    "# Manejar valores faltantes en características categóricas\n",
    "categorical_features = X.select_dtypes(include=['object']).columns\n",
    "X[categorical_features] = X[categorical_features].fillna('None')\n",
    "\n",
    "# Objetos de preprocesamiento para pipeline de modelos\n",
    "preprocesador_categorico = OneHotEncoder(handle_unknown='ignore', sparse_output=False)\n",
    "preprocesador_numerico = StandardScaler()\n",
    "\n",
    "# Dividir los datos en conjunto de entrenamiento y prueba\n",
    "X_train, X_test, y_train, y_test = train_test_split(\n",
    "    X, y, test_size=0.3, random_state=42, stratify=y\n",
    ")"
   ]
  },
  {
   "cell_type": "code",
   "execution_count": 25,
   "id": "51aaee4d",
   "metadata": {},
   "outputs": [],
   "source": [
    "# Generación de preprocesador\n",
    "preprocesador = ColumnTransformer([\n",
    "    ('one_hot_encoder',preprocesador_categorico, categorical_features),\n",
    "    ('standard_scaler',preprocesador_numerico, numeric_features)\n",
    "])"
   ]
  },
  {
   "cell_type": "markdown",
   "id": "f75bc1e1",
   "metadata": {},
   "source": [
    "## Prueba Modelo 1"
   ]
  },
  {
   "cell_type": "code",
   "execution_count": 26,
   "id": "6a998e70",
   "metadata": {},
   "outputs": [],
   "source": [
    "rf_classifier = make_pipeline(preprocesador, RandomForestClassifier(n_estimators=100, random_state=42))\n",
    "\n",
    "start = time.time()\n",
    "rf_classifier.fit(X_train, y_train)\n",
    "tiempo_entrenamiento_rf = time.time() - start\n",
    "\n",
    "# Evaluar el modelo\n",
    "y_predRF = rf_classifier.predict(X_test)"
   ]
  },
  {
   "cell_type": "code",
   "execution_count": 27,
   "id": "dcf94e74",
   "metadata": {},
   "outputs": [
    {
     "name": "stdout",
     "output_type": "stream",
     "text": [
      "Accuracy Random Forest: 0.983910955529833\n"
     ]
    }
   ],
   "source": [
    "print(\"Accuracy Random Forest:\", accuracy_score(y_test, y_predRF))"
   ]
  },
  {
   "cell_type": "code",
   "execution_count": 28,
   "id": "8d43df89",
   "metadata": {},
   "outputs": [
    {
     "name": "stdout",
     "output_type": "stream",
     "text": [
      "Reporte de clasificación para Random Forest:\n",
      "               precision    recall  f1-score   support\n",
      "\n",
      "           0       0.99      0.99      0.99    234531\n",
      "           1       0.91      0.81      0.86     15142\n",
      "\n",
      "    accuracy                           0.98    249673\n",
      "   macro avg       0.95      0.90      0.93    249673\n",
      "weighted avg       0.98      0.98      0.98    249673\n",
      "\n"
     ]
    }
   ],
   "source": [
    "print(\"Reporte de clasificación para Random Forest:\\n\", classification_report(y_test, y_predRF))"
   ]
  },
  {
   "cell_type": "code",
   "execution_count": 29,
   "id": "2186ce54",
   "metadata": {},
   "outputs": [
    {
     "data": {
      "text/plain": [
       "<Figure size 1000x600 with 0 Axes>"
      ]
     },
     "metadata": {},
     "output_type": "display_data"
    },
    {
     "data": {
      "image/png": "[encoded data removed]",
      "text/plain": [
       "<Figure size 640x480 with 2 Axes>"
      ]
     },
     "metadata": {},
     "output_type": "display_data"
    }
   ],
   "source": [
    "plt.figure(figsize=(10, 6))\n",
    "cm = confusion_matrix(y_test, y_predRF)\n",
    "disp = ConfusionMatrixDisplay(cm)\n",
    "disp.plot(cmap=\"Greens\")\n",
    "plt.title(\"Matriz de confusión RF\")\n",
    "\n",
    "plt.show()"
   ]
  },
  {
   "cell_type": "code",
   "execution_count": 30,
   "id": "4c59c37a",
   "metadata": {},
   "outputs": [
    {
     "name": "stdout",
     "output_type": "stream",
     "text": [
      "Tiempo de entrenamiento (Random Forest): 56.624680280685425 s\n"
     ]
    }
   ],
   "source": [
    "print(\"Tiempo de entrenamiento (Random Forest):\", tiempo_entrenamiento_rf, \"s\")"
   ]
  },
  {
   "cell_type": "markdown",
   "id": "b5938189",
   "metadata": {},
   "source": [
    "## Prueba Modelo 2"
   ]
  },
  {
   "cell_type": "code",
   "execution_count": 31,
   "id": "0dadecfc",
   "metadata": {},
   "outputs": [],
   "source": [
    "rf_classifier = make_pipeline(preprocesador, \n",
    "                              RandomForestClassifier(n_estimators=100, \n",
    "                                                     random_state=42,\n",
    "                                                     max_depth=20))\n",
    "\n",
    "start = time.time()\n",
    "rf_classifier.fit(X_train, y_train)\n",
    "tiempo_entrenamiento_rf = time.time() - start\n",
    "\n",
    "# Evaluar el modelo\n",
    "y_predRF = rf_classifier.predict(X_test)"
   ]
  },
  {
   "cell_type": "code",
   "execution_count": 32,
   "id": "139b95df",
   "metadata": {},
   "outputs": [
    {
     "name": "stdout",
     "output_type": "stream",
     "text": [
      "Accuracy Random Forest: 0.9744425708827146\n"
     ]
    }
   ],
   "source": [
    "print(\"Accuracy Random Forest:\", accuracy_score(y_test, y_predRF))"
   ]
  },
  {
   "cell_type": "code",
   "execution_count": 33,
   "id": "cbea8e9d",
   "metadata": {},
   "outputs": [
    {
     "name": "stdout",
     "output_type": "stream",
     "text": [
      "Reporte de clasificación para Random Forest:\n",
      "               precision    recall  f1-score   support\n",
      "\n",
      "           0       0.98      1.00      0.99    234531\n",
      "           1       0.93      0.63      0.75     15142\n",
      "\n",
      "    accuracy                           0.97    249673\n",
      "   macro avg       0.95      0.81      0.87    249673\n",
      "weighted avg       0.97      0.97      0.97    249673\n",
      "\n"
     ]
    }
   ],
   "source": [
    "print(\"Reporte de clasificación para Random Forest:\\n\", classification_report(y_test, y_predRF))"
   ]
  },
  {
   "cell_type": "code",
   "execution_count": 34,
   "id": "3114c6d6",
   "metadata": {},
   "outputs": [
    {
     "data": {
      "text/plain": [
       "<Figure size 1000x600 with 0 Axes>"
      ]
     },
     "metadata": {},
     "output_type": "display_data"
    },
    {
     "data": {
      "image/png": "[encoded data removed]",
      "text/plain": [
       "<Figure size 640x480 with 2 Axes>"
      ]
     },
     "metadata": {},
     "output_type": "display_data"
    }
   ],
   "source": [
    "plt.figure(figsize=(10, 6))\n",
    "cm = confusion_matrix(y_test, y_predRF)\n",
    "disp = ConfusionMatrixDisplay(cm)\n",
    "disp.plot(cmap=\"Greens\")\n",
    "plt.title(\"Matriz de confusión RF\")\n",
    "\n",
    "plt.show()"
   ]
  },
  {
   "cell_type": "code",
   "execution_count": 35,
   "id": "f4634f80",
   "metadata": {},
   "outputs": [
    {
     "name": "stdout",
     "output_type": "stream",
     "text": [
      "Tiempo de entrenamiento (Random Forest): 54.85641670227051 s\n"
     ]
    }
   ],
   "source": [
    "print(\"Tiempo de entrenamiento (Random Forest):\", tiempo_entrenamiento_rf, \"s\")"
   ]
  }
 ],
 "metadata": {
  "kernelspec": {
   "display_name": "Python 3",
   "language": "python",
   "name": "python3"
  },
  "language_info": {
   "codemirror_mode": {
    "name": "ipython",
    "version": 3
   },
   "file_extension": ".py",
   "mimetype": "text/x-python",
   "name": "python",
   "nbconvert_exporter": "python",
   "pygments_lexer": "ipython3",
   "version": "3.12.5"
  }
 },
 "nbformat": 4,
 "nbformat_minor": 5
}
